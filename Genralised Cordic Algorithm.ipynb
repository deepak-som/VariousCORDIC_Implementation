{
    "cells": [
        {
            "metadata": {
                "collapsed": true
            },
            "cell_type": "markdown",
            "source": "## Generalised Cordic Algorithm"
        },
        {
            "metadata": {},
            "cell_type": "markdown",
            "source": "## Basics of CORDIC algorithm"
        },
        {
            "metadata": {},
            "cell_type": "markdown",
            "source": "CORDIC algorithms exploit the fact that on rotation of a vector ((0, 0)$\\rightarrow$ (x, y)) by $\\theta^o$ new co-ordinates of a vector are:"
        },
        {
            "metadata": {},
            "cell_type": "markdown",
            "source": "\\begin{equation}\n    x' = x\\cos(\\phi) - y\\sin(\\phi)\n\\end{equation}\n\\begin{equation}\n    y' = x\\sin(\\phi) + y\\cos(\\phi)\n\\end{equation}"
        },
        {
            "metadata": {},
            "cell_type": "markdown",
            "source": "Using basic trignometric identies these equations can be shown to be equivalent to:"
        },
        {
            "metadata": {},
            "cell_type": "markdown",
            "source": "\\begin{equation}\n    x' = A\\cdot(x - y\\tan(\\phi))\n\\end{equation}\n\\begin{equation}\n    y' = A\\cdot(x\\tan(\\phi) + y)\n\\end{equation}\n\n\\begin{equation}\nA = \\frac{1}{\\sqrt{1+\\tan^2(\\phi)}}\n\\end{equation}\n\\begin{equation}...[Eq 1.1]\n\\end{equation}"
        },
        {
            "metadata": {},
            "cell_type": "markdown",
            "source": "These equations can be seperated into two parts, A which scales the magnitude of vector and rest of the part which performs vector rotation. If we get rid of A these set of equations will perform psuedo rotations."
        },
        {
            "metadata": {},
            "cell_type": "markdown",
            "source": "If instead of single $-\\theta^\\circ$ rotation vector are rotated through multiple angles which sums to $-\\theta^\\circ$. "
        },
        {
            "metadata": {},
            "cell_type": "markdown",
            "source": "In current form these equations require multipliers but if we restrict each of the iteration to an angle such that $\\tan{(\\phi_i)} = 2^{-i}$. In iterative form equations now are:"
        },
        {
            "metadata": {},
            "cell_type": "markdown",
            "source": "\\begin{equation}\n    x_{i+1} = x_{i} - y_{i} \\cdot d_{i} \\cdot 2^{-i}      \n\\end{equation}\n\n\n\\begin{equation}\n    y_{i+1} = y_{i} + x_{i} \\cdot d_{i} \\cdot 2^{-i}\n\\end{equation}\n\n\\begin{equation}\n    z_{i+1} = Z_{i} - d_{i} \\cdot tan^{-1}(2^{-i})     \n\\end{equation}\n"
        },
        {
            "metadata": {},
            "cell_type": "markdown",
            "source": "One thing that is worth noticing is for increase in value of i, decrease in value of $tan^{-1}(2^{-i})$ is less than half of $tan^{-1}(2^{-(i-1)})$. Or mathematically:"
        },
        {
            "metadata": {},
            "cell_type": "markdown",
            "source": "\\begin{equation}\ntan^{-1}(2^{-(i)}) \\geq \\frac{1}{2} tan^{-1}(2^{-(i+1)})\n\\end{equation}"
        },
        {
            "metadata": {},
            "cell_type": "markdown",
            "source": "This is very important for convergence of value in either of the mode, if value of does not convergence in specific case we'll have to repeat certain iterations to get convergence."
        },
        {
            "metadata": {},
            "cell_type": "markdown",
            "source": "# Modes of CORDIC Algorithms\nCORDIC algorithms is usualy operated in one of the following two modes:\n* **Rotation mode** \n* **Vector mode**\n"
        },
        {
            "metadata": {},
            "cell_type": "markdown",
            "source": "## Rotation Mode\nInstead of performing rotation by an angle in one go, multiple small rotations are performed over number of iterations. After each iteration total sum of rotation is equal to the desired angle. \nIn rotation mode vector is initialised with given angle, on each further iteration the value of angle is reduced by rotating the vector by fixed amount."
        },
        {
            "metadata": {},
            "cell_type": "markdown",
            "source": "**Equations** used in **rotation mode** are:"
        },
        {
            "metadata": {},
            "cell_type": "markdown",
            "source": "\\begin{equation}\n    x_{i+1} = x_{i} - y_{i} \\cdot d_{i} \\cdot 2^{-i}      \n\\end{equation}\n\n\\begin{equation}\n    y_{i+1} = y_{i} + x_{i} \\cdot d_{i} \\cdot 2^{-i}\n\\end{equation}\n\n\\begin{equation}\n    z_{i+1} = Z_{i} - d_{i} \\cdot tan^{-1}(2^{-i})     \n\\end{equation}"
        },
        {
            "metadata": {},
            "cell_type": "markdown",
            "source": "\\begin{equation}\n^{(for \\space i^{th} \\space iteration)}\n\\end{equation}"
        },
        {
            "metadata": {},
            "cell_type": "markdown",
            "source": "here **Z** is also known as **angle accumulator** since at the end of iterations **Z accumulates all the rotations performed**"
        },
        {
            "metadata": {},
            "cell_type": "markdown",
            "source": "Value of $d_{i}$ is chosen such that z reduces at each iteration. Thus after **n iterations if z = 0 then**"
        },
        {
            "metadata": {},
            "cell_type": "markdown",
            "source": "\\begin{equation}\n    x_{n} = A_{n} \\cdot [ x_{0} \\cdot cos z_{0} - y_{0} \\cdot sin z_{0} ]      \n\\end{equation}\n\n\\begin{equation}\n    y_{n} = A_{n} \\cdot [ y_{0} \\cdot cos z_{0} + x_{0} \\cdot sin z_{0} ]      \n\\end{equation}\n\n\\begin{equation}\n    z_{n} = 0\n\\end{equation}"
        },
        {
            "metadata": {},
            "cell_type": "markdown",
            "source": "where \n\n\\begin{equation}\n    A_{n} = {\\displaystyle \\prod_{i=0} ^{n}} \\sqrt{1+2^{-2i}}\n\\end{equation}"
        },
        {
            "metadata": {},
            "cell_type": "markdown",
            "source": "Equations used above are for circular coordinate system(i.e **m = 1**)"
        },
        {
            "metadata": {},
            "cell_type": "markdown",
            "source": "The **rotational mode CORDIC** operation can simultaneously **compute the sine and cosine of the input angle**"
        },
        {
            "metadata": {},
            "cell_type": "markdown",
            "source": "Setting the **y component** of the **input vector to zero** reduces the rotation mode result to:"
        },
        {
            "metadata": {},
            "cell_type": "markdown",
            "source": "\n\\begin{equation}\n    x_{n} = A_{n} \\cdot x_{0}cos z_{0}\n\\end{equation}\n\n\\begin{equation}\n y_{n} = A_{n} \\cdot x_{0}sin z_{0}\n\\end{equation}\n\n"
        },
        {
            "metadata": {},
            "cell_type": "markdown",
            "source": "By setting **$x_{0}$ = 1/$A_{n}$** and **$y_{0}$ = 0**, the rotation produces the unscaled sine and cosine of the angle argument, **$z_{0}$**,\n\nwhere **1/$A_{n}$ = 0.6073** which produces **$x_{out}$ = cos$z_{0}$, $y_{out}$ = sin$z_{0}$ and $z_{out}$ = 0**"
        },
        {
            "metadata": {},
            "cell_type": "markdown",
            "source": "**Table below** shows the parameter tuning to calculate **trigonometric(sine, and cos)** and **hyperbolic trigonometric(sinh, cosh)** function"
        },
        {
            "metadata": {},
            "cell_type": "markdown",
            "source": "\\begin{array}{|l|l|l|l|l|l|l|}\n\\hline \nCoordinate~System & x_{in} & y_{in} & z_{in} & x_{out}    & y_{out}    & z_{out} \\\\ \\hline\nLinear            & x      & 0      & z      & x          & x*z        & 0       \\\\ \\hline\nCircular          & 0.6073 & 0      & z      & \\cos{(z)}  & \\sin{(z)}   & 0       \\\\ \\hline\nHyperbolic        & 1.2075 & 0      & z      & \\cosh{(z)} & \\sinh{(z)} & 0       \\\\ \\hline\n\\end{array}"
        },
        {
            "metadata": {},
            "cell_type": "markdown",
            "source": ""
        },
        {
            "metadata": {},
            "cell_type": "markdown",
            "source": ""
        },
        {
            "metadata": {},
            "cell_type": "code",
            "source": "%matplotlib inline\n\nimport matplotlib\nimport numpy as np\nimport matplotlib.pyplot as plt\n\nimport math\nimport string\nimport struct\n\nfrom __future__ import division",
            "execution_count": 1,
            "outputs": []
        },
        {
            "metadata": {},
            "cell_type": "code",
            "source": "circular = 1\nlinear = 0\nhyperbolic = -1",
            "execution_count": 2,
            "outputs": []
        },
        {
            "metadata": {},
            "cell_type": "code",
            "source": "# methods to plot values\n\ndef plot(x_values, y_values, x_label, y_label, plot_label):\n    # Plot of Value of gain with number of iterations\n    fig = plt.figure();\n    ax = fig.add_subplot(111);\n\n    line, = ax.plot(x_values, y_values,  lw=2)\n\n    ax.set_title(plot_label)\n    ax.set_xlabel(x_label)\n    ax.set_ylabel(y_label)\n    plt.show()\n    plt.close()\n    return",
            "execution_count": 3,
            "outputs": []
        },
        {
            "metadata": {},
            "cell_type": "markdown",
            "source": "### Value of $A_{n}$ as $n \\rightarrow \\infty$ for circular co-ordinates"
        },
        {
            "metadata": {},
            "cell_type": "code",
            "source": "#Calculation of system gain ($A_n$) for circular co-ordinate system,\n#these calculation can be extended to other co-ordinate system with slight modification.\n\ngain_val_list = [math.sqrt(2)]  # Stores value of gain after each iteration  for i =0,  $A_{0}$ = underroot(1+2^0) == underroot(2)\nmax_iter_gain = 10              # Max number of iterations for calculating value of gain\niterations_list = [0]           # List that Stores the number of iterations performed\n\nfor i in range (1, max_iter_gain):\n    gain_val_list.append(gain_val_list[i-1] * math.sqrt(1 + 2**(-2 * i)))\n    iterations_list.append(i)\n\n# Plot for value of gain with each iteration\nplot(iterations_list, gain_val_list, 'Iterations (i) $\\\\rightarrow$', 'Gain $A_{n}$ $\\\\rightarrow$',\n     'Variation of A$_{n}$ with number of iterations')\nprint(\"Gain of the system is \" + str(gain_val_list[len(gain_val_list) - 1]))\n\ninverse_gain = 1/ gain_val_list[len(gain_val_list)-1]\nprint('Inverse gain value 1/ A$_{n}$ is: ' ,inverse_gain)\n\n#iterations_list\ngain_val_list",
            "execution_count": 4,
            "outputs": [
                {
                    "output_type": "display_data",
                    "data": {
                        "text/plain": "<Figure size 432x288 with 1 Axes>",
                        "image/png": "[encoded data removed]"
                    },
                    "metadata": {
                        "needs_background": "light"
                    }
                },
                {
                    "output_type": "stream",
                    "text": "Gain of the system is 1.6467592111398222\nInverse gain value 1/ A$_{n}$ is:  0.6072533210898752\n",
                    "name": "stdout"
                },
                {
                    "output_type": "execute_result",
                    "execution_count": 4,
                    "data": {
                        "text/plain": "[1.4142135623730951,\n 1.5811388300841898,\n 1.6298006013006623,\n 1.6424840657522373,\n 1.645688915757255,\n 1.6464922787124787,\n 1.6466932542736437,\n 1.646743506596901,\n 1.6467560702048785,\n 1.6467592111398222]"
                    },
                    "metadata": {}
                }
            ]
        },
        {
            "metadata": {},
            "cell_type": "code",
            "source": "#`ROM_lookup` provides values of constant required for each coordinate system based on iteration count\ndef ROM_lookup(iteration, coordinate):\n    if (coordinate == circular):\n        return math.degrees(math.atan(2**(-1*iteration)))\n    elif (coordinate == linear):\n        return 2**(-1*iteration)\n    elif (coordinate == hyperbolic):\n        return (math.atanh(2**(-1*iteration)))",
            "execution_count": 5,
            "outputs": []
        },
        {
            "metadata": {},
            "cell_type": "markdown",
            "source": "## Python implementation of Rotation mode"
        },
        {
            "metadata": {},
            "cell_type": "code",
            "source": "#`Rotation_mode` returns dictionary of list containing x, y and z values for each iteration\n\ndef rotation_mode(x, y, z, coordinate, iterations):\n    a = 0.607252935;   # = 1/K\n    \n    x_val_list = []\n    y_val_list = []\n    z_val_list = []\n    iterations_list = []\n\n    i = 0;                  # Keeps count on number of iterations\n    \n    current_x = x         # Value of X on ith iteration \n    current_y = y         # Value of Y on ith iteration\n    current_z = z         # Value of Z on ith iteration\n    \n    di = 0\n    \n    if (coordinate == hyperbolic):\n        i = 1\n    else:\n        i = 0\n        \n    flag = 0\n    \n    if (iterations > 0):\n        while (i < iterations):\n            if (current_z < 0):\n                di = -1\n            else:\n                di = +1\n            next_z = current_z - di * ROM_lookup(i, coordinate)\n            next_x = current_x - coordinate * di * current_y * (2**(-1*i))\n            next_y = current_y + di * current_x * 2**(-1*i)\n            \n            current_x = next_x\n            current_y = next_y\n            current_z = next_z\n\n            x_val_list.append(current_x)\n            y_val_list.append(current_y)\n            z_val_list.append(current_z)\n            \n            iterations_list.append(i)\n            \n            if (coordinate == hyperbolic):\n                if ((i != 4) & (i != 13) & (i!=40)):\n                    i = i+1\n                elif (flag == 0):\n                    flag = 1\n                elif (flag == 1):\n                    flag = 0\n                    i = i+1\n            else:\n                i = i+1\n    return { 'x':x_val_list, 'y':y_val_list, 'z':z_val_list, 'iteration':iterations_list, }",
            "execution_count": 6,
            "outputs": []
        },
        {
            "metadata": {},
            "cell_type": "markdown",
            "source": "# Python implementation of vector mode\nIn vector mode vector is initialised with given angle, on each further iteration the value of angle is reduced by rotating the vector by fixed amount.\n\nEquations used in vector mode are (same as rotation mode):\n\n\n\\begin{equation}\n    x_{i+1} = x_{i} - y_{i} \\cdot d_{i} \\cdot 2^{-i}      \n\\end{equation}\n\n\n\\begin{equation}\n    y_{i+1} = y_{i} + x_{i} \\cdot d_{i} \\cdot 2^{-i}\n\\end{equation}\n\n\\begin{equation}\n    z_{i+1} = Z_{i} - d_{i} \\cdot tan^{-1}(2^{-i})     \n\\end{equation}\n\n\n\\begin{equation}\n^{(for \\space i^{th} \\space iteration)}\n\\end{equation}\n\nValue of $d_{i}$ is chosen such that z reduces at each iteration. Thus after n iterations if z = 0 then\n\n\n\\begin{equation}\n    x_{n} = A_{n} \\sqrt{ x_{0}^{2} - y_{0}^{2} }\n\\end{equation}\n\n\\begin{equation}\n    y_{n} = 0\n\\end{equation}\n\n\\begin{equation}\n    z_{n} = z_{0} + tanh^{-1}( \\dfrac{y_{0}}{x_{0}} )\n\\end{equation}\n\nwhere \n\n\\begin{equation}\n    A_{n} = {\\displaystyle \\prod_{i=0} ^{n}} \\sqrt{1+2^{-2i}}\n\\end{equation}"
        },
        {
            "metadata": {},
            "cell_type": "code",
            "source": "def vector_mode(x, y, z, coordinate, iterations):\n    a = 1.2075;   # = 1/K\n    \n    x_val_list = []\n    y_val_list = []\n    z_val_list = []\n    iterations_list = []\n\n    i = 0;                  # Keeps count on number of iterations\n    \n    current_x = x         # Value of X on ith iteration \n    current_y = y         # Value of Y on ith iteration\n    current_z = z         # Value of Z on ith iteration\n    \n    di = 0\n    \n    # This is neccesary since result for i=0 doesn't exists for hyperbolic \n    # co-ordinate system.\n    if (coordinate == hyperbolic):\n        i = 1\n    else:\n        i = 0\n        \n    flag = 0\n    \n    if (iterations > 0):\n        while (i < iterations):\n            di = -1*math.copysign(1, current_y);#*current_x);\n            next_x = current_x - coordinate * di * current_y * (2**(-1*i))\n            next_y = current_y + di * current_x * 2**(-1*i)\n            next_z = current_z - di * ROM_lookup(i, coordinate)\n            \n            current_x = next_x\n            current_y = next_y\n            current_z = next_z\n\n            x_val_list.append(current_x)\n            y_val_list.append(current_y)\n            z_val_list.append(current_z)\n            \n            iterations_list.append(i)\n            \n            if (coordinate == hyperbolic):\n                if ((i != 4) & (i != 13) & (i!=40)):\n                    i = i+1\n                elif (flag == 0):\n                    flag = 1\n                elif (flag == 1):\n                    flag = 0\n                    i = i+1\n            else:\n                i = i+1\n    return { 'x':x_val_list, 'y':y_val_list, 'z':z_val_list, 'iteration':iterations_list }",
            "execution_count": 7,
            "outputs": []
        },
        {
            "metadata": {},
            "cell_type": "markdown",
            "source": "> **NOTE:** Method used here to calculate decision vector ($d_i$) is based on modified technique of what was mentioned originally in *Andraka, Ray (1998)* paper on CORDIC algorithms[1]. Here $d_i~=~x_i \\cdot y_i$ instead of $d_i~=~y_i$. This allows greater range values and allows convergence of algorithm in case of $x_{o} < y_{o}$."
        },
        {
            "metadata": {},
            "cell_type": "code",
            "source": "",
            "execution_count": null,
            "outputs": []
        },
        {
            "metadata": {},
            "cell_type": "markdown",
            "source": "## Calculating trignometric function(sine and cos) using cordic in Rotation mode providing \n$y_{in}$ = 0, $x_{in}$ = 1/$A_{n}$ and m = 1(i.e circular mode)\nwhere $x_{out}$ = cos$z_{0}$, $y_{out}$ = sin$z_{0}$"
        },
        {
            "metadata": {},
            "cell_type": "code",
            "source": "#sine and cos calculation\n\nx0 = 0.6073   # needs to be fixed at x=0.6073 or x= 1/An\ny0 = 0        # needs to be kept 0 to simplify the rotation mode equations in terms of sin and cos\nz0 = 60       # can take any value of angle between -pi/2 to pi/2\ncordinate = circular #needs to operate in circular mode in order to calculate trigonometric functions\niteration1 = 10       # are variable can alter but its best to minimize iteration to save resources(H/W and S/W both)\n\nsin_values = []\ncos_values = []\nz_out_values = []\n\ntrig_function = rotation_mode(x0, y0, z0, cordinate, iteration1)\n\ncos_value = trig_function['x']\ncos_values.append(cos_value[len(cos_value)-1])\n\nsin_value = trig_function['y']\nsin_values.append(sin_value[len(sin_value)-1])\n\nz_out_value = trig_function['z']\nz_out_values.append(z_out_value[len(z_out_value)-1])\n\ncos_values, sin_values, z_out_values",
            "execution_count": 8,
            "outputs": [
                {
                    "output_type": "execute_result",
                    "execution_count": 8,
                    "data": {
                        "text/plain": "([0.4989670002569571], [0.8667096840429519], [-0.0708547915951548])"
                    },
                    "metadata": {}
                }
            ]
        },
        {
            "metadata": {},
            "cell_type": "code",
            "source": "def validate_rotation_mode_trig_values(angle, iteration):\n    x = 0.6073\n    y =0\n    z = angle\n    coordinate = circular\n    sin_values =[]\n    cos_values =[]\n    iteration_list = []\n    angle_list = []\n    cordinate_sys = []\n    \n    for angle in range(0,90):\n        dict_trig = rotation_mode(x,y,angle,coordinate,iteration)\n        \n        cos_value = dict_trig['x']\n        cos_values.append(cos_value[len(cos_value)-1])\n        \n        sin_value = dict_trig['y']\n        sin_values.append(sin_value[len(sin_value)-1])\n        \n        iteration_list.append(iteration)\n        angle_list.append(angle)\n    \n    return {'Sine':sin_values, 'Cosine':cos_values, 'Angles':angle_list, 'iteration':iteration_list}\n\nd1 = validate_rotation_mode_trig_values(10, 10)\n\nd1",
            "execution_count": 31,
            "outputs": [
                {
                    "output_type": "execute_result",
                    "execution_count": 31,
                    "data": {
                        "text/plain": "{'Sine': [0.0011726801878624927,\n  0.016780620170849615,\n  0.03630585677343483,\n  0.05191446823957053,\n  0.07140939088137052,\n  0.08588596603220448,\n  0.10532861521530447,\n  0.12085221022020541,\n  0.14019996407341787,\n  0.1556537947992543,\n  0.17491540134945388,\n  0.19027844823062845,\n  0.20928073707311895,\n  0.22453448110685736,\n  0.2435223654575312,\n  0.2586475675685905,\n  0.2774481761885753,\n  0.29242439212322363,\n  0.3073310520260994,\n  0.3251452218273268,\n  0.3435512761887887,\n  0.3581836921063393,\n  0.3763350044935029,\n  0.3907657878720712,\n  0.40509943159246015,\n  0.42287924198015175,\n  0.4368623185676461,\n  0.4543481744106704,\n  0.46821065678535895,\n  0.48536458261182375,\n  0.4989670002569571,\n  0.5157967696357509,\n  0.5291205038538507,\n  0.5446674419339955,\n  0.5577055299244095,\n  0.573809807788904,\n  0.58653714900119,\n  0.602230754332489,\n  0.6146302652084646,\n  0.6299202599306714,\n  0.6418729918396465,\n  0.6567280844887533,\n  0.6684306187174888,\n  0.6828308343520083,\n  0.6941513412344519,\n  0.7062435464900364,\n  0.7199358716036248,\n  0.7306817333267609,\n  0.7438778473111124,\n  0.7542293860643406,\n  0.7669112113576647,\n  0.7767587848799232,\n  0.7889127840572949,\n  0.7984183504250015,\n  0.8100172322863356,\n  0.8190824428862583,\n  0.8301314869651633,\n  0.838743775807807,\n  0.8486372818588085,\n  0.856800698057946,\n  0.8667096840429519,\n  0.8743997745341141,\n  0.8837038670459025,\n  0.8909104782013457,\n  0.8996138384745757,\n  0.9062708703591613,\n  0.9143567106347091,\n  0.9205736487581963,\n  0.9265666236985522,\n  0.9337334665033328,\n  0.9392157709431386,\n  0.9457453824799346,\n  0.951683439080344,\n  0.9563690284877604,\n  0.9608206145211983,\n  0.9660513338069107,\n  0.9699745364086773,\n  0.9745450274632435,\n  0.9779342088552745,\n  0.9818084619202483,\n  0.9846615388700927,\n  0.9878894877079375,\n  0.9902008451991303,\n  0.9927479473885358,\n  0.9945147694107341,\n  0.9963821277993572,\n  0.9975241564259041,\n  0.9987285075267766,\n  0.9994176446927514,\n  0.9999360752297827],\n 'Cosine': [1.0000761813884165,\n  0.9999360752297827,\n  0.9994176446927514,\n  0.9987285075267766,\n  0.9975241564259041,\n  0.9963821277993572,\n  0.9945147694107341,\n  0.9927479473885358,\n  0.9902008451991303,\n  0.9878894877079375,\n  0.9846615388700927,\n  0.9818084619202483,\n  0.9779342088552745,\n  0.9745450274632435,\n  0.9699745364086773,\n  0.9660513338069107,\n  0.9608206145211983,\n  0.9563690284877604,\n  0.951683439080344,\n  0.9457453824799346,\n  0.9392157709431386,\n  0.9337334665033328,\n  0.9265666236985522,\n  0.9205736487581963,\n  0.9143567106347091,\n  0.9062708703591613,\n  0.8996138384745757,\n  0.8909104782013457,\n  0.8837038670459025,\n  0.8743997745341141,\n  0.8667096840429519,\n  0.856800698057946,\n  0.8486372818588085,\n  0.838743775807807,\n  0.8301314869651633,\n  0.8190824428862583,\n  0.8100172322863356,\n  0.7984183504250015,\n  0.7889127840572949,\n  0.7767587848799232,\n  0.7669112113576647,\n  0.7542293860643406,\n  0.7438778473111124,\n  0.7306817333267609,\n  0.7199358716036248,\n  0.7080775358676726,\n  0.6941513412344519,\n  0.6828308343520083,\n  0.6684306187174888,\n  0.6567280844887533,\n  0.6418729918396465,\n  0.6299202599306714,\n  0.6146302652084646,\n  0.602230754332489,\n  0.58653714900119,\n  0.573809807788904,\n  0.5577055299244095,\n  0.5446674419339955,\n  0.5291205038538507,\n  0.5157967696357509,\n  0.4989670002569571,\n  0.48536458261182375,\n  0.46821065678535895,\n  0.4543481744106704,\n  0.4368623185676461,\n  0.42287924198015175,\n  0.40509943159246015,\n  0.3907657878720712,\n  0.3763350044935029,\n  0.3581836921063393,\n  0.3435512761887887,\n  0.3251452218273268,\n  0.3073310520260994,\n  0.29242439212322363,\n  0.2774481761885753,\n  0.2586475675685905,\n  0.2435223654575312,\n  0.22453448110685736,\n  0.20928073707311895,\n  0.19027844823062845,\n  0.17491540134945388,\n  0.1556537947992543,\n  0.14019996407341787,\n  0.12085221022020541,\n  0.10532861521530447,\n  0.08588596603220448,\n  0.07140939088137052,\n  0.05191446823957053,\n  0.03630585677343483,\n  0.016780620170849615],\n 'Angles': [0,\n  1,\n  2,\n  3,\n  4,\n  5,\n  6,\n  7,\n  8,\n  9,\n  10,\n  11,\n  12,\n  13,\n  14,\n  15,\n  16,\n  17,\n  18,\n  19,\n  20,\n  21,\n  22,\n  23,\n  24,\n  25,\n  26,\n  27,\n  28,\n  29,\n  30,\n  31,\n  32,\n  33,\n  34,\n  35,\n  36,\n  37,\n  38,\n  39,\n  40,\n  41,\n  42,\n  43,\n  44,\n  45,\n  46,\n  47,\n  48,\n  49,\n  50,\n  51,\n  52,\n  53,\n  54,\n  55,\n  56,\n  57,\n  58,\n  59,\n  60,\n  61,\n  62,\n  63,\n  64,\n  65,\n  66,\n  67,\n  68,\n  69,\n  70,\n  71,\n  72,\n  73,\n  74,\n  75,\n  76,\n  77,\n  78,\n  79,\n  80,\n  81,\n  82,\n  83,\n  84,\n  85,\n  86,\n  87,\n  88,\n  89],\n 'iteration': [10,\n  10,\n  10,\n  10,\n  10,\n  10,\n  10,\n  10,\n  10,\n  10,\n  10,\n  10,\n  10,\n  10,\n  10,\n  10,\n  10,\n  10,\n  10,\n  10,\n  10,\n  10,\n  10,\n  10,\n  10,\n  10,\n  10,\n  10,\n  10,\n  10,\n  10,\n  10,\n  10,\n  10,\n  10,\n  10,\n  10,\n  10,\n  10,\n  10,\n  10,\n  10,\n  10,\n  10,\n  10,\n  10,\n  10,\n  10,\n  10,\n  10,\n  10,\n  10,\n  10,\n  10,\n  10,\n  10,\n  10,\n  10,\n  10,\n  10,\n  10,\n  10,\n  10,\n  10,\n  10,\n  10,\n  10,\n  10,\n  10,\n  10,\n  10,\n  10,\n  10,\n  10,\n  10,\n  10,\n  10,\n  10,\n  10,\n  10,\n  10,\n  10,\n  10,\n  10,\n  10,\n  10,\n  10,\n  10,\n  10,\n  10]}"
                    },
                    "metadata": {}
                }
            ]
        },
        {
            "metadata": {},
            "cell_type": "code",
            "source": "import pandas as pd\nTrig_value_data = pd.DataFrame(d1)\nTrig_value_data.set_index('Angles')\nTrig_value_data\n",
            "execution_count": 50,
            "outputs": [
                {
                    "output_type": "execute_result",
                    "execution_count": 50,
                    "data": {
                        "text/plain": "        Sine    Cosine  Angles  iteration\n0   0.001173  1.000076       0         10\n1   0.016781  0.999936       1         10\n2   0.036306  0.999418       2         10\n3   0.051914  0.998729       3         10\n4   0.071409  0.997524       4         10\n..       ...       ...     ...        ...\n85  0.996382  0.085886      85         10\n86  0.997524  0.071409      86         10\n87  0.998729  0.051914      87         10\n88  0.999418  0.036306      88         10\n89  0.999936  0.016781      89         10\n\n[90 rows x 4 columns]",
                        "text/html": "<div>\n<style scoped>\n    .dataframe tbody tr th:only-of-type {\n        vertical-align: middle;\n    }\n\n    .dataframe tbody tr th {\n        vertical-align: top;\n    }\n\n    .dataframe thead th {\n        text-align: right;\n    }\n</style>\n<table border=\"1\" class=\"dataframe\">\n  <thead>\n    <tr style=\"text-align: right;\">\n      <th></th>\n      <th>Sine</th>\n      <th>Cosine</th>\n      <th>Angles</th>\n      <th>iteration</th>\n    </tr>\n  </thead>\n  <tbody>\n    <tr>\n      <th>0</th>\n      <td>0.001173</td>\n      <td>1.000076</td>\n      <td>0</td>\n      <td>10</td>\n    </tr>\n    <tr>\n      <th>1</th>\n      <td>0.016781</td>\n      <td>0.999936</td>\n      <td>1</td>\n      <td>10</td>\n    </tr>\n    <tr>\n      <th>2</th>\n      <td>0.036306</td>\n      <td>0.999418</td>\n      <td>2</td>\n      <td>10</td>\n    </tr>\n    <tr>\n      <th>3</th>\n      <td>0.051914</td>\n      <td>0.998729</td>\n      <td>3</td>\n      <td>10</td>\n    </tr>\n    <tr>\n      <th>4</th>\n      <td>0.071409</td>\n      <td>0.997524</td>\n      <td>4</td>\n      <td>10</td>\n    </tr>\n    <tr>\n      <th>...</th>\n      <td>...</td>\n      <td>...</td>\n      <td>...</td>\n      <td>...</td>\n    </tr>\n    <tr>\n      <th>85</th>\n      <td>0.996382</td>\n      <td>0.085886</td>\n      <td>85</td>\n      <td>10</td>\n    </tr>\n    <tr>\n      <th>86</th>\n      <td>0.997524</td>\n      <td>0.071409</td>\n      <td>86</td>\n      <td>10</td>\n    </tr>\n    <tr>\n      <th>87</th>\n      <td>0.998729</td>\n      <td>0.051914</td>\n      <td>87</td>\n      <td>10</td>\n    </tr>\n    <tr>\n      <th>88</th>\n      <td>0.999418</td>\n      <td>0.036306</td>\n      <td>88</td>\n      <td>10</td>\n    </tr>\n    <tr>\n      <th>89</th>\n      <td>0.999936</td>\n      <td>0.016781</td>\n      <td>89</td>\n      <td>10</td>\n    </tr>\n  </tbody>\n</table>\n<p>90 rows \u00d7 4 columns</p>\n</div>"
                    },
                    "metadata": {}
                }
            ]
        },
        {
            "metadata": {},
            "cell_type": "markdown",
            "source": "## Calculating Inverse trignometric function(Arctangent, Arcsine and Arccosine) using cordic.\n\n### Arctangent\nThe arctangent, **$\\theta$= Atan(y/x)**, is directly computed using the **vectoring mode** CORDIC- rotator if the **angle accumulator is initialized with zero**.\n\n\n$z_{in}$ = 0, $x_{in}$ = denominator ratio of angle, $y_{in}$ = numerator  of the ratio, and m = 1(i.e circular mode)\nwhere $x_{out}$ = cos$z_{0}$, $y_{out}$ = sin$z_{0}$\n\nThe argument must be provided as a ratio expressed as a vector (x, y)."
        },
        {
            "metadata": {},
            "cell_type": "markdown",
            "source": "x0 = 1\ny0 = 1\nz0 = 0"
        },
        {
            "metadata": {},
            "cell_type": "markdown",
            "source": ""
        },
        {
            "metadata": {},
            "cell_type": "markdown",
            "source": ""
        },
        {
            "metadata": {},
            "cell_type": "markdown",
            "source": ""
        },
        {
            "metadata": {},
            "cell_type": "code",
            "source": "# Arctangent calculation\n\nx0 = 1   # # can take any value or can be fixed to 1 as y/x if x = 1fixed then input can be feed directly through y.\ny0 = 0.577        # can take any value.\nz0 = 0       # needs to feed as zero.\ncordinate = circular #needs to operate in circular mode in order to calculate trigonometric functions\niteration1 = 10       # are variable can alter but its best to minimize iteration to save resources(H/W and S/W both)\n\narctan_values = []\nz_out_values = []\n\nif x0 == 0:\n    print(\"infinity\")\nelse:\n    Arctan_function = vector_mode(x0, y0, z0, cordinate, iteration1)\n    \nArctan_function\n\n#z_out = Arctan_function['z']\n#z_out\n#z_out[len(z_out)-1]",
            "execution_count": 44,
            "outputs": [
                {
                    "output_type": "execute_result",
                    "execution_count": 44,
                    "data": {
                        "text/plain": "{'x': [1.577,\n  1.7885,\n  1.879875,\n  1.890078125,\n  1.8996630859375,\n  1.9007640075683594,\n  1.9011411166191101,\n  1.9011845889501273,\n  1.9012208710071719,\n  1.9012245071483882],\n 'y': [-0.42300000000000004,\n  0.36549999999999994,\n  -0.08162500000000006,\n  0.15335937499999994,\n  0.03522949218749993,\n  -0.024134979248046945,\n  0.005564458370208671,\n  -0.009288206603378127,\n  -0.0018617043027916924,\n  0.0018516177108941901],\n 'z': [45.0,\n  18.43494882292201,\n  32.47119229084849,\n  25.346175941946694,\n  28.922510316944045,\n  30.712420925190116,\n  29.81724721497904,\n  30.264861385839595,\n  30.041050885471055,\n  29.929145208404847],\n 'iteration': [0, 1, 2, 3, 4, 5, 6, 7, 8, 9]}"
                    },
                    "metadata": {}
                }
            ]
        },
        {
            "metadata": {},
            "cell_type": "code",
            "source": "import random\ndef validate_vector_mode_ArcTangent_values(start_value, end_value, iteration):\n    \n    ratio_value_decimal = 1 # to set theta = 45 and x = 1, y=1 so y/x =1 arctan(1) = 45\n    \n    x0 = 1\n    y0 = ratio_value_decimal \n    z0 = 0\n    coordinate_sys = circular\n    \n    z_out_angle_values = []\n    iteration_list = []\n    input_y_values_list = []\n    \n    for value in range(0,90):\n        val = round(random.uniform(start_value,end_value),3)\n        dict_Arctan = vector_mode(x0,val,z0,coordinate_sys,iteration)\n        \n        z_out_value = dict_Arctan['z']\n        z_out_angle_values.append(z_out_value[len(z_out_value)-1])\n        \n        input_y_value = val\n        input_y_values_list.append(val)\n        \n        iteration_list.append(iteration)\n        \n        #add for x and y output values if needed in future\n    \n    return {'Z_out':z_out_angle_values, 'Test_Angles':input_y_values_list, 'iteration':iteration_list}\n\nd2 = validate_vector_mode_ArcTangent_values(5, 49, 10)\n\nd2",
            "execution_count": 47,
            "outputs": [
                {
                    "output_type": "execute_result",
                    "execution_count": 47,
                    "data": {
                        "text/plain": "{'Z_out': [83.95436664126187,\n  87.47190937257862,\n  88.8147587150368,\n  79.47942634606868,\n  87.02441129461467,\n  88.59094906843212,\n  85.68156195215649,\n  82.38783057497214,\n  84.84959498298296,\n  88.8147587150368,\n  85.29721598372005,\n  82.38783057497214,\n  88.8147587150368,\n  88.14334172744812,\n  88.14334172744812,\n  88.8147587150368,\n  79.25563035921708,\n  88.8147587150368,\n  86.80060164800999,\n  88.8147587150368,\n  87.24822264874707,\n  88.59094906843212,\n  87.69572072671103,\n  83.28305891669324,\n  86.57679029387758,\n  86.35299430702598,\n  88.36713771429972,\n  80.82216642550681,\n  88.36713771429972,\n  88.36713771429972,\n  86.35299430702598,\n  88.59094906843212,\n  88.59094906843212,\n  88.59094906843212,\n  88.36713771429972,\n  78.80800935847999,\n  88.8147587150368,\n  87.69572072671103,\n  87.69572072671103,\n  88.59094906843212,\n  79.70323770020109,\n  86.12918295289357,\n  87.69572072671103,\n  87.91953037331571,\n  87.69572072671103,\n  88.8147587150368,\n  88.14334172744812,\n  78.80800935847999,\n  88.59094906843212,\n  86.57679029387758,\n  88.59094906843212,\n  88.14334172744812,\n  88.36713771429972,\n  88.36713771429972,\n  88.14334172744812,\n  88.36713771429972,\n  81.26977376649081,\n  85.68156195215649,\n  86.57679029387758,\n  88.36713771429972,\n  88.59094906843212,\n  85.07340633711537,\n  87.69572072671103,\n  88.8147587150368,\n  87.02441129461467,\n  83.50686856329791,\n  79.03181900508467,\n  87.47190937257862,\n  87.47190937257862,\n  88.36713771429972,\n  88.59094906843212,\n  83.05924756256083,\n  85.68156195215649,\n  81.94120612136031,\n  87.47190937257862,\n  87.47190937257862,\n  88.8147587150368,\n  84.40198764199896,\n  88.14334172744812,\n  88.8147587150368,\n  88.14334172744812,\n  83.05924756256083,\n  87.91953037331571,\n  88.8147587150368,\n  88.59094906843212,\n  88.36713771429972,\n  87.02441129461467,\n  88.36713771429972,\n  88.59094906843212,\n  88.14334172744812],\n 'Test_Angles': [9.518,\n  23.487,\n  44.891,\n  5.359,\n  19.719,\n  43.161,\n  13.179,\n  7.566,\n  10.895,\n  45.342,\n  12.182,\n  7.396,\n  44.619,\n  32.239,\n  30.831,\n  45.95,\n  5.234,\n  44.736,\n  18.018,\n  48.983,\n  20.621,\n  40.352,\n  25.689,\n  8.424,\n  17.254,\n  16.137,\n  36.749,\n  6.147,\n  36.615,\n  36.179,\n  15.324,\n  38.863,\n  43.932,\n  39.586,\n  34.042,\n  5.08,\n  45.66,\n  25.274,\n  25.651,\n  42.099,\n  5.481,\n  14.499,\n  24.301,\n  27.529,\n  23.833,\n  48.906,\n  29.204,\n  5.093,\n  39.188,\n  16.302,\n  43.615,\n  30.815,\n  33.269,\n  36.123,\n  29.499,\n  35.648,\n  6.519,\n  13.384,\n  16.577,\n  34.339,\n  37.895,\n  11.833,\n  23.983,\n  46.14,\n  19.344,\n  8.871,\n  5.115,\n  22.334,\n  22.224,\n  34.362,\n  42.744,\n  8.292,\n  13.14,\n  7.104,\n  21.987,\n  21.979,\n  45.579,\n  10.181,\n  30.952,\n  47.378,\n  31.054,\n  8.344,\n  26.588,\n  47.552,\n  43.512,\n  32.855,\n  18.98,\n  36.131,\n  43.096,\n  29.953],\n 'iteration': [10,\n  10,\n  10,\n  10,\n  10,\n  10,\n  10,\n  10,\n  10,\n  10,\n  10,\n  10,\n  10,\n  10,\n  10,\n  10,\n  10,\n  10,\n  10,\n  10,\n  10,\n  10,\n  10,\n  10,\n  10,\n  10,\n  10,\n  10,\n  10,\n  10,\n  10,\n  10,\n  10,\n  10,\n  10,\n  10,\n  10,\n  10,\n  10,\n  10,\n  10,\n  10,\n  10,\n  10,\n  10,\n  10,\n  10,\n  10,\n  10,\n  10,\n  10,\n  10,\n  10,\n  10,\n  10,\n  10,\n  10,\n  10,\n  10,\n  10,\n  10,\n  10,\n  10,\n  10,\n  10,\n  10,\n  10,\n  10,\n  10,\n  10,\n  10,\n  10,\n  10,\n  10,\n  10,\n  10,\n  10,\n  10,\n  10,\n  10,\n  10,\n  10,\n  10,\n  10,\n  10,\n  10,\n  10,\n  10,\n  10,\n  10]}"
                    },
                    "metadata": {}
                }
            ]
        },
        {
            "metadata": {},
            "cell_type": "code",
            "source": "Arctan_value_dataSet = pd.DataFrame(d2)\nArctan_value_dataSet",
            "execution_count": 49,
            "outputs": [
                {
                    "output_type": "execute_result",
                    "execution_count": 49,
                    "data": {
                        "text/plain": "        Z_out  Test_Angles  iteration\n0   83.954367        9.518         10\n1   87.471909       23.487         10\n2   88.814759       44.891         10\n3   79.479426        5.359         10\n4   87.024411       19.719         10\n..        ...          ...        ...\n85  88.367138       32.855         10\n86  87.024411       18.980         10\n87  88.367138       36.131         10\n88  88.590949       43.096         10\n89  88.143342       29.953         10\n\n[90 rows x 3 columns]",
                        "text/html": "<div>\n<style scoped>\n    .dataframe tbody tr th:only-of-type {\n        vertical-align: middle;\n    }\n\n    .dataframe tbody tr th {\n        vertical-align: top;\n    }\n\n    .dataframe thead th {\n        text-align: right;\n    }\n</style>\n<table border=\"1\" class=\"dataframe\">\n  <thead>\n    <tr style=\"text-align: right;\">\n      <th></th>\n      <th>Z_out</th>\n      <th>Test_Angles</th>\n      <th>iteration</th>\n    </tr>\n  </thead>\n  <tbody>\n    <tr>\n      <th>0</th>\n      <td>83.954367</td>\n      <td>9.518</td>\n      <td>10</td>\n    </tr>\n    <tr>\n      <th>1</th>\n      <td>87.471909</td>\n      <td>23.487</td>\n      <td>10</td>\n    </tr>\n    <tr>\n      <th>2</th>\n      <td>88.814759</td>\n      <td>44.891</td>\n      <td>10</td>\n    </tr>\n    <tr>\n      <th>3</th>\n      <td>79.479426</td>\n      <td>5.359</td>\n      <td>10</td>\n    </tr>\n    <tr>\n      <th>4</th>\n      <td>87.024411</td>\n      <td>19.719</td>\n      <td>10</td>\n    </tr>\n    <tr>\n      <th>...</th>\n      <td>...</td>\n      <td>...</td>\n      <td>...</td>\n    </tr>\n    <tr>\n      <th>85</th>\n      <td>88.367138</td>\n      <td>32.855</td>\n      <td>10</td>\n    </tr>\n    <tr>\n      <th>86</th>\n      <td>87.024411</td>\n      <td>18.980</td>\n      <td>10</td>\n    </tr>\n    <tr>\n      <th>87</th>\n      <td>88.367138</td>\n      <td>36.131</td>\n      <td>10</td>\n    </tr>\n    <tr>\n      <th>88</th>\n      <td>88.590949</td>\n      <td>43.096</td>\n      <td>10</td>\n    </tr>\n    <tr>\n      <th>89</th>\n      <td>88.143342</td>\n      <td>29.953</td>\n      <td>10</td>\n    </tr>\n  </tbody>\n</table>\n<p>90 rows \u00d7 3 columns</p>\n</div>"
                    },
                    "metadata": {}
                }
            ]
        },
        {
            "metadata": {},
            "cell_type": "markdown",
            "source": "## Validate function to collect the generated output data verification"
        },
        {
            "metadata": {},
            "cell_type": "code",
            "source": "",
            "execution_count": null,
            "outputs": []
        },
        {
            "metadata": {},
            "cell_type": "code",
            "source": "",
            "execution_count": null,
            "outputs": []
        }
    ],
    "metadata": {
        "kernelspec": {
            "name": "python3",
            "display_name": "Python 3.8",
            "language": "python"
        },
        "language_info": {
            "name": "python",
            "version": "3.8.11",
            "mimetype": "text/x-python",
            "codemirror_mode": {
                "name": "ipython",
                "version": 3
            },
            "pygments_lexer": "ipython3",
            "nbconvert_exporter": "python",
            "file_extension": ".py"
        }
    },
    "nbformat": 4,
    "nbformat_minor": 1
}