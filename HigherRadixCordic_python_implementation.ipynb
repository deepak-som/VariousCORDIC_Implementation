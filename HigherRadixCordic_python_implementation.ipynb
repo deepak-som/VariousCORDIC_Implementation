{
    "cells": [
        {
            "metadata": {
                "collapsed": true
            },
            "cell_type": "markdown",
            "source": "### Higher Radix Cordic"
        },
        {
            "metadata": {},
            "cell_type": "markdown",
            "source": "In vector mode vector is initialised with given angle, on each further iteration the value of angle is reduced by rotating the vector by fixed amount.\n\nEquations used in Higher Radix Cordic are:\n\n\n\\begin{equation}\n    x_{i+1} = x_{i} - \\sigma_{i} \\cdot 4^{-i} \\cdot y_{i}     \n\\end{equation}\n\n\n\\begin{equation}\n    y_{i+1} = y_{i} + \\sigma_{i} \\cdot 4^{-i} \\cdot x_{i} \n\\end{equation}\n\n\\begin{equation}\n    \\omega_{i+1} = \\omega_{i} - \\sigma_{i} \\cdot \\alpha_{i}     \n\\end{equation}\n\n\n\\begin{equation}\n^{(where \\space \\sigma_{i} \\in \\space \\{-2, -1, 0, 1, 2\\})}\n\\end{equation}\n\nelementary angles\n\\begin{equation}\n\\alpha_{i} = arctan(\\sigma_{i}4^{-i})\n\\end{equation}\n\n\n\n\n\nwhere the scale factor for the ith iteration\n\n\\begin{equation}\n    K_{n} = {\\displaystyle 1/ \\prod_{i=0} ^{n}} \\sqrt{1+ \\sigma_{i}^2 \\cdot 4^{-2i}}\n\\end{equation}"
        },
        {
            "metadata": {},
            "cell_type": "code",
            "source": "%matplotlib inline\n\nimport matplotlib\nimport numpy as np\nimport matplotlib.pyplot as plt\n\nimport math\nimport string\nimport struct\n\nfrom __future__ import division",
            "execution_count": 1,
            "outputs": []
        },
        {
            "metadata": {},
            "cell_type": "code",
            "source": "#variable to identify circular, linear and hyperbolic mode\ncircular = 1\nlinear = 0\nhyperbolic = -1",
            "execution_count": 2,
            "outputs": []
        },
        {
            "metadata": {},
            "cell_type": "code",
            "source": "#method to plot things\ndef plot(x_values, y_values, x_label, y_label, plot_label):\n    # Plot of Value of gain with number of iterations\n    fig = plt.figure();\n    ax = fig.add_subplot(111);\n\n    line, = ax.plot(x_values, y_values,  lw=2)\n\n    ax.set_title(plot_label)\n    ax.set_xlabel(x_label)\n    ax.set_ylabel(y_label)\n    plt.show()\n    plt.close()\n    return",
            "execution_count": 3,
            "outputs": []
        },
        {
            "metadata": {},
            "cell_type": "markdown",
            "source": "## Python implementation of Higher Radix Cordic in Rotation mode"
        },
        {
            "metadata": {},
            "cell_type": "code",
            "source": "#`ROM_lookup` provides values of constant required for each coordinate system based on iteration count\ndef ROM_lookup(iteration, coordinate):\n    if (coordinate == circular):\n        return math.degrees(math.atan(2**(-1*iteration)))\n    elif (coordinate == linear):\n        return 2**(-1*iteration)\n    elif (coordinate == hyperbolic):\n        return (math.atanh(2**(-1*iteration)))",
            "execution_count": 4,
            "outputs": []
        },
        {
            "metadata": {},
            "cell_type": "code",
            "source": "# A full radix-4 CORDIC algorithm in rotation mode and circular coordinates\n#to do: find how to utilise the set of sigma_i values?\n\ndef HigerRadixCordicRotationMode(x, y, omega, coordinate_system, iterations):\n   # a = 1.2075;   # = 1/K\n\n\n    \n    x_val_list = []\n    y_val_list = []\n    omega_val_list = []\n    iterations_list = []\n    alpha_i_list = []\n    sigma_i_list = []\n\n    i = 0;                  # Keeps count on number of iterations\n    \n    alpha_i = arctan(cuurent_sigma * 4 **(-i))\n    \n    current_x = x         # Value of X on ith iteration \n    current_y = y         # Value of Y on ith iteration\n    current_omega = omega         # Value of Z on ith iteration\n    current_sigma = sigma   # denote the /sigma_{i}  sigma lies in {-2,-1,0,1,2}\n    \n    sigma_i = 0\n    \n    # This is neccesary since result for i=0 doesn't exists for hyperbolic \n    # co-ordinate system.\n    if (coordinate_system == hyperbolic):\n        i = 1\n    else:\n        i = 0\n        \n    flag = 0\n    \n    if (iterations > 0):\n        while (i < iterations):\n            #di = -1*math.copysign(1, current_y);#*current_x);\n            #sigma_i = \n            \n            next_x = current_x - current_sigma * 4**(-1*i) * current_y\n            next_y = current_y + current_sigma * 4**(-1*i) * current_x \n            next_omega = current_omega - currernt_sigma * alpha_i\n            \n            current_x = next_x\n            current_y = next_y\n            current_omega = next_omega\n\n            x_val_list.append(current_x)\n            y_val_list.append(current_y)\n            omega_val_list.append(current_omega)\n            \n            iterations_list.append(i)\n            \n            if (coordinate_system == hyperbolic):\n                if ((i != 4) & (i != 13) & (i!=40)):\n                    i = i+1\n                elif (flag == 0):\n                    flag = 1\n                elif (flag == 1):\n                    flag = 0\n                    i = i+1\n            else:\n                i = i+1\n    return { 'x':x_val_list, 'y':y_val_list, 'omega':omega_val_list, 'iteration':iterations_list }",
            "execution_count": 5,
            "outputs": []
        },
        {
            "metadata": {},
            "cell_type": "code",
            "source": "",
            "execution_count": null,
            "outputs": []
        }
    ],
    "metadata": {
        "kernelspec": {
            "name": "python3",
            "display_name": "Python 3.8",
            "language": "python"
        },
        "language_info": {
            "name": "python",
            "version": "3.8.11",
            "mimetype": "text/x-python",
            "codemirror_mode": {
                "name": "ipython",
                "version": 3
            },
            "pygments_lexer": "ipython3",
            "nbconvert_exporter": "python",
            "file_extension": ".py"
        }
    },
    "nbformat": 4,
    "nbformat_minor": 1
}